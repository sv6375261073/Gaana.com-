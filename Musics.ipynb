{
 "cells": [
  {
   "cell_type": "markdown",
   "metadata": {},
   "source": [
    "# Importing required packages"
   ]
  },
  {
   "cell_type": "code",
   "execution_count": 18,
   "metadata": {},
   "outputs": [],
   "source": [
    "from selenium import webdriver   \n",
    "import requests,os\n",
    "from selenium.webdriver.chrome.options import Options\n",
    "import time     \n",
    "from bs4 import BeautifulSoup\n",
    "import lxml\n",
    "import urllib\n",
    "import numpy as np"
   ]
  },
  {
   "cell_type": "code",
   "execution_count": 19,
   "metadata": {},
   "outputs": [],
   "source": [
    "base_url='https://gaana.com'"
   ]
  },
  {
   "cell_type": "markdown",
   "metadata": {},
   "source": [
    "# Opening gaana.com url and prepare to scrape"
   ]
  },
  {
   "cell_type": "code",
   "execution_count": 3,
   "metadata": {},
   "outputs": [],
   "source": [
    "option = Options()\n",
    "option.add_argument(\"--disable-infobars\")\n",
    "option.add_argument(\"start-maximized\")\n",
    "option.add_argument(\"--disable-extensions\")\n",
    "\n",
    "# Pass the argument 1 to allow and 2 to block\n",
    "option.add_experimental_option(\"prefs\", { \"profile.default_content_setting_values.notifications\": 1 })\n",
    "\n",
    "browser = webdriver.Chrome(executable_path='./chromedriver',options=option) \n",
    "browser.get(base_url)\n",
    "browser.implicitly_wait(15)\n",
    "try:\n",
    "    browser.find_element_by_class_name('popup-close').click()\n",
    "    browser.find_element_by_class_name('popup-close').click()\n",
    "except:\n",
    "    browser.implicitly_wait(2)\n",
    "    pass"
   ]
  },
  {
   "cell_type": "markdown",
   "metadata": {},
   "source": [
    "# Songs and artists scrapping function of latests songs"
   ]
  },
  {
   "cell_type": "code",
   "execution_count": 11,
   "metadata": {},
   "outputs": [],
   "source": [
    "def subsong(browser,url):\n",
    "    base_url='https://gaana.com'\n",
    "    if not url.find('https://')>=0:\n",
    "        url=base_url+url\n",
    "    print(url)\n",
    "    browser.get(url)\n",
    "    soup=BeautifulSoup(browser.page_source,'lxml')\n",
    "    songs=soup.find_all('a',attrs={'class':'sng_c'})\n",
    "    songs+=soup.find_all('a',attrs={'class':'sng_c '})\n",
    "    songs+=soup.find_all('a',attrs={'class':'album-name block_dotes _dotes pjax'})\n",
    "    songs+=soup.find_all('a',attrs={'class':'imghover'})\n",
    "    songs=[song for song in songs if not song['href'].startswith('javascript:')]\n",
    "    return songs\n",
    "   "
   ]
  },
  {
   "cell_type": "markdown",
   "metadata": {},
   "source": [
    "# Scroller for all playlists"
   ]
  },
  {
   "cell_type": "code",
   "execution_count": 6,
   "metadata": {},
   "outputs": [],
   "source": [
    "current={}\n",
    "while True:\n",
    "    try:\n",
    "        browser.execute_script(\"window.scrollTo(0,document.body.scrollHeight)\")\n",
    "        browser.implicitly_wait(15)\n",
    "        page=browser.page_source\n",
    "        soup=BeautifulSoup(page,'lxml')\n",
    "        links=soup.find_all('div',attrs={'class':'carousel'})\n",
    "        current_tag=[l.find('h2').text.replace('View all','').strip() for l in links]\n",
    "        pre=len(current)\n",
    "        current={cat:link.find('a')['href'] for cat,link in zip(current_tag,links) }\n",
    "        post=len(current)\n",
    "        if pre==post:\n",
    "            break\n",
    "    except Exception as e:\n",
    "        print(e)\n",
    "        "
   ]
  },
  {
   "cell_type": "markdown",
   "metadata": {},
   "source": [
    "# Scrapping playlists"
   ]
  },
  {
   "cell_type": "code",
   "execution_count": 7,
   "metadata": {},
   "outputs": [
    {
     "data": {
      "text/plain": [
       "218"
      ]
     },
     "execution_count": 7,
     "metadata": {},
     "output_type": "execute_result"
    }
   ],
   "source": [
    "page=browser.page_source\n",
    "soup=BeautifulSoup(page,'lxml')\n",
    "playlists=soup.find_all('a',attrs={'class':'imghover'})\n",
    "len(playlists)"
   ]
  },
  {
   "cell_type": "markdown",
   "metadata": {},
   "source": [
    "# Scrapping Trending songs and artists"
   ]
  },
  {
   "cell_type": "code",
   "execution_count": 56,
   "metadata": {
    "scrolled": true
   },
   "outputs": [
    {
     "name": "stdout",
     "output_type": "stream",
     "text": [
      "https://gaana.com/playlist/gaana-dj-trending-songs-hindi\n",
      "https://gaana.com/playlist/gaana-dj-new-release-hot-20-punjabi\n",
      "https://gaana.com/playlist/gaana-dj-international-weekly-hot-20\n",
      "https://gaana.com/season/90s-ki-cassette-with-manjula\n",
      "https://gaana.com/playlist/gaana-dj-just-in-punjabi\n",
      "https://gaana.com/playlist/gaana-dj-ode-to-a-sunny-day\n",
      "https://gaana.com/playlist/gaana-dj-love-wali-feeling\n",
      "https://gaana.com/playlist/gaana-dj-trending-around-you\n",
      "https://gaana.com/playlist/gaana-dj-hindi-top-50-1\n",
      "https://gaana.com/playlist/gaana-dj-punjabi-top-50-1\n",
      "https://gaana.com/playlist/gaana-dj-gaana-international-top-50\n",
      "https://gaana.com/playlist/gaana-dj-trending-songs-hindi\n",
      "https://gaana.com/playlist/gaana-dj-new-release-hot-20-punjabi\n",
      "https://gaana.com/playlist/gaana-dj-international-weekly-hot-20\n",
      "https://gaana.com/playlist/gaana-dj-new-releases-hot-20-hindi\n",
      "https://gaana.com/playlist/gaana-dj-todays-top-5-punjabi\n",
      "https://gaana.com/playlist/gaana-dj-todays-top-5-international\n",
      "https://gaana.com/playlist/gaana-dj-gaana-originals-top-20\n",
      "https://gaana.com/album/baby-girl-hindi\n",
      "https://gaana.com/album/landlord-punjabi-1\n",
      "https://gaana.com/album/wonder-english-2020-4\n",
      "https://gaana.com/album/matlab-hindi\n",
      "https://gaana.com/album/fire-honge\n",
      "https://gaana.com/album/still-have-me\n",
      "https://gaana.com/album/jaan-jaan-hindi\n",
      "https://gaana.com/album/revolver-punjabi-1-2-3\n",
      "https://gaana.com/album/lie-like-this\n",
      "https://gaana.com/album/taaron-ke-shehar\n",
      "https://gaana.com/playlist/gaana-dj-best-of-arijit-singh\n",
      "https://gaana.com/playlist/gaana-dj-best-of-b-praak\n",
      "https://gaana.com/playlist/inhouse-dj-hits-of-shakira\n",
      "https://gaana.com/playlist/gaana-dj-best-of-neha-kakkar\n",
      "https://gaana.com/playlist/gaana-dj-best-of-gurdas-mann\n",
      "https://gaana.com/playlist/gaana-dj-best-of-eminem\n",
      "https://gaana.com/playlist/gaana-dj-best-of-badshah\n",
      "https://gaana.com/playlist/gaana-dj-best-of-dr-zeus\n",
      "https://gaana.com/playlist/gaana-dj-best-of-rihanna\n",
      "https://gaana.com/playlist/gaana-dj-best-of-armaan-malik-1\n",
      "https://gaana.com/song/apna-time-aayega\n",
      "https://gaana.com/song/this-party-is-over-now\n",
      "https://gaana.com/song/badass-babuaa\n",
      "https://gaana.com/song/the-breakup-song-4\n",
      "https://gaana.com/song/right-here-right-now-hip-hop-mix\n",
      "https://gaana.com/song/the-humma-song-from-ok-jaanu\n",
      "https://gaana.com/song/kar-gayi-chull\n",
      "https://gaana.com/song/sunny-sunny-1\n",
      "https://gaana.com/song/chaar-botal-vodka\n",
      "https://gaana.com/song/abhi-toh-party-shuru-hui-hai\n",
      "https://gaana.com/song/loveyatri-mashup\n",
      "https://gaana.com/song/sultan-mashup\n",
      "https://gaana.com/song/mashup-of-the-year\n",
      "https://gaana.com/song/romantic-mashup-2\n",
      "https://gaana.com/song/bollywood-party-mashup-by-dj-chetas\n",
      "https://gaana.com/song/the-tapori-mashup\n",
      "https://gaana.com/song/love-mashup-2016-by-kiran-kamath\n",
      "https://gaana.com/song/tanu-weds-manu-returns-mashup-by-kiran-kamath-1\n",
      "https://gaana.com/song/arijit-singh-mashup-by-dj-paroma\n",
      "https://gaana.com/song/kapoor-sons-mashup-by-dj-chetas-from-kapoor-sons-since-1921\n",
      "https://gaana.com/song/genda-phool\n",
      "https://gaana.com/song/nahi-jaana-1\n",
      "https://gaana.com/song/chan-mahi-3\n",
      "https://gaana.com/song/tune-maari-entriyaan-bangla-version-2\n",
      "https://gaana.com/song/bolliyan-22\n",
      "https://gaana.com/song/o-womaniya-live\n",
      "https://gaana.com/song/akh-kashni-6\n",
      "https://gaana.com/song/khaike-paan-banaras-wala-2\n",
      "https://gaana.com/song/kala-doriyan\n",
      "https://gaana.com/song/jugni-10\n",
      "https://gaana.com/song/munna-badnaam-hua-from-dabangg-3\n",
      "https://gaana.com/song/ek-to-kam-zindgani\n",
      "https://gaana.com/song/aila-re-3\n",
      "https://gaana.com/song/aira-gaira-1\n",
      "https://gaana.com/song/husn-parcham\n",
      "https://gaana.com/song/hello-hello-230\n",
      "https://gaana.com/song/aao-kabhi-haveli-pe\n",
      "https://gaana.com/song/balma\n",
      "https://gaana.com/song/kamariya-4\n",
      "https://gaana.com/song/mummy-kasam\n",
      "https://gaana.com/song/proper-patola-9\n",
      "https://gaana.com/song/yeh-baby-refix\n",
      "https://gaana.com/song/attention-134\n",
      "https://gaana.com/song/urvashi-2\n",
      "https://gaana.com/song/sip-sip-5\n",
      "https://gaana.com/song/bum-bum-tam-tam-3\n",
      "https://gaana.com/song/kem-cho\n",
      "https://gaana.com/song/ishare-tere\n",
      "https://gaana.com/song/havana-150\n",
      "https://gaana.com/song/morni-banke\n",
      "https://gaana.com/gaanavideo/kalla-sohna-nai-1\n",
      "https://gaana.com/gaanavideo/khyaal-rakhya-kar\n",
      "https://gaana.com/gaanavideo/cute-song\n",
      "https://gaana.com/gaanavideo/past-life\n",
      "https://gaana.com/gaanavideo/lehanga-1\n",
      "https://gaana.com/gaanavideo/seorita-1\n",
      "https://gaana.com/gaanavideo/chal-pahad-oyo\n",
      "https://gaana.com/gaanavideo/yummy\n",
      "https://gaana.com/gaanavideo/8-parche\n",
      "https://gaana.com/gaanavideo/goa-beach-1\n",
      "https://gaana.com/song/hosh-7\n",
      "https://gaana.com/song/kyon-20\n",
      "https://gaana.com/song/kaafla-3\n",
      "https://gaana.com/song/aise-na-mujhe-tum-dekho-13\n",
      "https://gaana.com/song/cute-song-1\n",
      "https://gaana.com/song/teri-gali-mein-aata-nahin\n",
      "https://gaana.com/song/jogan-32\n",
      "https://gaana.com/song/viah-nai-karauna-1\n",
      "https://gaana.com/song/kisi-gair-ka-nahi\n",
      "https://gaana.com/song/ringtone-39\n",
      "https://gaana.com/radio/mirchi-toota-dil\n",
      "https://gaana.com/gaanaradio/sukoon-ke-pal-1\n",
      "https://gaana.com/radio/mirchiplay-yo-punjabi\n",
      "https://gaana.com/gaanaradio/party-hits-punjabi-1\n",
      "https://gaana.com/radio/mirchiplay-international-hits\n",
      "https://gaana.com/gaanaradio/happy-feels-1\n",
      "https://gaana.com/radio/mirchiplay-filmy-mirchi\n",
      "https://gaana.com/gaanaradio/new-romantic-bollywood\n",
      "https://gaana.com/radio/mirchi-delhi-punjabi\n",
      "https://gaana.com/gaanaradio/chartbusters-punjabi\n",
      "https://gaana.com/playlist/gaana-dj-the-shake-tunes\n",
      "https://gaana.com/playlist/gaana-dj-dil-wali-gal\n",
      "https://gaana.com/playlist/gaana-dj-push-the-tempo\n",
      "https://gaana.com/playlist/gaana-dj-love-wali-feeling\n",
      "https://gaana.com/playlist/gaana-dj-top-searches-on-gaana-punjabi\n",
      "https://gaana.com/playlist/gaana-dj-crushed\n",
      "https://gaana.com/playlist/gaana-dj-best-of-hindi-retro\n",
      "https://gaana.com/playlist/gaana-dj-nachdi-patola-banke\n",
      "https://gaana.com/playlist/gaana-dj-rock-while-you-drive\n",
      "https://gaana.com/playlist/gaana-dj-bahut-hua-love\n",
      "https://gaana.com/playlist/gaana-dj-tayari-viyah-di\n",
      "https://gaana.com/playlist/gaana-dj-alt-pop\n",
      "https://gaana.com/playlist/gaana-dj-nain-parindey\n",
      "https://gaana.com/playlist/gaana-dj-ankhiyaan-nu-rehn-de\n",
      "https://gaana.com/playlist/gaana-dj-denim-tales\n",
      "https://gaana.com/playlist/gaana-dj-romantic-ghazal\n",
      "https://gaana.com/playlist/gaana-dj-tamanna-meri\n",
      "https://gaana.com/playlist/gaana-dj-vineyard\n",
      "https://gaana.com/playlist/gaana-dj-uff-tera-gussa\n",
      "https://gaana.com/playlist/gaana-dj-bapu-da-cash\n",
      "https://gaana.com/playlist/gaana-dj-old-dancing-shoes\n",
      "https://gaana.com/playlist/gaana-dj-90s-pehla-pyar\n",
      "https://gaana.com/playlist/gaana-dj-punjabi-love-60s\n",
      "https://gaana.com/playlist/gaana-dj-easy-workout\n",
      "https://gaana.com/playlist/gaana-dj-metro-mein-retro\n",
      "https://gaana.com/playlist/gaana-dj-swag-jatti-da\n",
      "https://gaana.com/playlist/gaana-dj-27-club\n",
      "https://gaana.com/playlist/gaana-dj-best-of-shabads\n",
      "https://gaana.com/playlist/gaana-dj-golden-roads\n",
      "https://gaana.com/playlist/gaana-dj-mutiyaar-jatt-di\n",
      "https://gaana.com/season/jokevani\n",
      "https://gaana.com/season/gur-pure-kirpa-dhari-punjabi\n",
      "https://gaana.com/season/guided-meditations-inner-treasures\n",
      "https://gaana.com/season/freedom-fighters-of-india\n",
      "https://gaana.com/season/bhotu-shah-ji-zindabad-bhutu-shah-and-kake-shah\n",
      "https://gaana.com/season/simple-ken-hosted-by-kenny-sebastian-season-1\n",
      "https://gaana.com/season/kartik-motivation\n",
      "https://gaana.com/season/gur-ki-tahal-guru-ki-sewa\n",
      "https://gaana.com/season/gita-for-daily-living-season-1-2019\n",
      "https://gaana.com/season/md-motivation\n",
      "https://gaana.com/visualstories/web-stories/must-have-punjabi-birthday-party-songs/amp_web_stories/78312482.cms\n",
      "https://gaana.com/visualstories/web-stories/top-sunidhi-chauhan-love-songs/amp_web_stories/78311796.cms\n",
      "https://gaana.com/visualstories/web-stories/top-lively-bollywood-songs-of-all-times/amp_web_stories/78221174.cms\n",
      "https://gaana.com/visualstories/web-stories/all-time-favourite-sharry-mann-songs/amp_web_stories/78220922.cms\n",
      "https://gaana.com/visualstories/web-stories/hit-english-songs-you-just-cannot-miss/amp_web_stories/78106909.cms\n",
      "https://gaana.com/visualstories/web-stories/queen-of-melody-top-nimrat-khaira-songs/amp_web_stories/78051883.cms\n",
      "https://gaana.com/visualstories/web-stories/tell-your-stories-with-these-love-songs/amp_web_stories/77969596.cms\n"
     ]
    },
    {
     "name": "stdout",
     "output_type": "stream",
     "text": [
      "https://gaana.com/visualstories/web-stories/best-sidhu-moose-wala-songs-of-all-times/amp_web_stories/77969422.cms\n",
      "https://gaana.com/visualstories/web-stories/sweat-it-out-with-these-punjabi-songs/amp_web_stories/77848569.cms\n",
      "https://gaana.com/visualstories/web-stories/top-amrit-maan-songs-for-your-playlist/amp_web_stories/77844814.cms\n",
      "https://gaana.com/song/main-shair-to-nahin-2\n",
      "https://gaana.com/song/backbone-48\n",
      "https://gaana.com/song/time-in-a-bottle-8\n",
      "https://gaana.com/song/dil-to-pagal-hai\n",
      "https://gaana.com/song/high-rated-gabru\n",
      "https://gaana.com/song/i-want-your-sex-3\n",
      "https://gaana.com/song/tujhe-dekha-to\n",
      "https://gaana.com/song/main-tenu-1\n",
      "https://gaana.com/song/lets-stay-together-4\n",
      "https://gaana.com/song/aankhon-ki-gustakhiyan-maaf-ho\n",
      "https://gaana.com/playlist/gaana-dj-krishna\n",
      "https://gaana.com/playlist/gaana-dj-guru-nanak-dev\n",
      "https://gaana.com/playlist/gaana-dj-Popular-collections-of-shiva\n",
      "https://gaana.com/playlist/gaana-dj-guru-angad-dev\n",
      "https://gaana.com/playlist/gaana-dj-Popular-collections-of-hanuman\n",
      "https://gaana.com/playlist/gaana-dj-guru-amar-das\n",
      "https://gaana.com/playlist/gaana-dj-popular-collection-of-ganesha\n",
      "https://gaana.com/playlist/gaana-dj-guru-ram-das\n",
      "https://gaana.com/playlist/gaana-dj-krishan-ki-radha\n",
      "https://gaana.com/playlist/gaana-dj-guru-arjan-dev\n",
      "https://gaana.com/playlist/gaana-dj-top-ghazals\n",
      "https://gaana.com/playlist/gaana-dj-jagjit-singh-punjabi-hits\n",
      "https://gaana.com/playlist/inhouse-dj-remembering-jagjit-singh\n",
      "https://gaana.com/playlist/gaana-dj-romantic-ghazal\n",
      "https://gaana.com/playlist/gaana-dj-ghazals-from-films\n",
      "https://gaana.com/playlist/gaana-dj-ehsaas-love-ghazals\n",
      "https://gaana.com/playlist/gaana-dj-jagjit-singh-golden-great\n",
      "https://gaana.com/playlist/gaana-dj-jagjit-singh-rare-gems\n",
      "https://gaana.com/playlist/gaana-dj-jagjit-singh-sings-for-films\n",
      "https://gaana.com/playlist/gaana-dj-best-of-pankaj-udhas\n",
      "https://gaana.com/album/bollywood-unwind-5\n",
      "https://gaana.com/song/lag-ja-gale-2\n",
      "https://gaana.com/song/chura-liya\n",
      "https://gaana.com/song/pal-pal-dil-ke-paas-the-unwind-mix\n",
      "https://gaana.com/song/yeh-vaada-raha-20\n",
      "https://gaana.com/song/kya-yahi-pyar-hai-the-unwind-mix\n",
      "https://gaana.com/song/aap-ki-nazron-ne-samjha-sanam\n",
      "https://gaana.com/song/ek-ladki-ko-dekha-to-sanam\n",
      "https://gaana.com/song/aise-na-mujhe-tum-dekho-the-unwind-mix\n",
      "https://gaana.com/song/pehla-nasha\n",
      "https://gaana.com/song/mera-piya-ghar-aaya-1\n",
      "https://gaana.com/song/sun-lo-maula-de-farmaan-2\n",
      "https://gaana.com/song/us-mod-se-shuroo-karen-from-the-latest\n",
      "https://gaana.com/song/hamen-to-loot-liya-mil-ke-husn-sawal\n",
      "https://gaana.com/song/yaad-yaad-bas-yaad-rah\n",
      "https://gaana.com/song/har-kom-jaan-nisar-hai-bharat\n",
      "https://gaana.com/song/kar-de-karam-3\n",
      "https://gaana.com/song/chap-tilak-sab-chini\n",
      "https://gaana.com/song/khalli-walli\n",
      "https://gaana.com/song/mast-nazron-se-allah-bachaye-3\n"
     ]
    }
   ],
   "source": [
    "links=[]\n",
    "for url in playlists:\n",
    "    links+=subsong(browser,url['href'])\n",
    "links=list(set(links))"
   ]
  },
  {
   "cell_type": "markdown",
   "metadata": {},
   "source": [
    "# Filtering Song and artists from links of playlists"
   ]
  },
  {
   "cell_type": "code",
   "execution_count": 57,
   "metadata": {
    "scrolled": false
   },
   "outputs": [
    {
     "name": "stdout",
     "output_type": "stream",
     "text": [
      "3146\n",
      "3169\n"
     ]
    }
   ],
   "source": [
    "csongs=[]\n",
    "artists=[]\n",
    "for l in links:\n",
    "    if l['href'].startswith('/artist'):\n",
    "        artists.append(l)\n",
    "    else:csongs.append(l)\n",
    "print(len(csongs))\n",
    "print(len(artists))"
   ]
  },
  {
   "cell_type": "code",
   "execution_count": 64,
   "metadata": {
    "scrolled": true
   },
   "outputs": [],
   "source": [
    "x=[]\n",
    "for s in csongs:\n",
    "    x.append(s.text+'  '+s['href'])"
   ]
  },
  {
   "cell_type": "markdown",
   "metadata": {},
   "source": [
    "# Scrapping all songs of each artist "
   ]
  },
  {
   "cell_type": "code",
   "execution_count": 50,
   "metadata": {
    "scrolled": true
   },
   "outputs": [],
   "source": [
    "def artist_songs_f(browser,artist_link):\n",
    "    if not artist_link.startswith('https'):\n",
    "        artist_link=base_url+artist_link\n",
    "    browser.get(artist_link)\n",
    "    browser.implicitly_wait(2)\n",
    "    try:\n",
    "        soup=BeautifulSoup(browser.page_source,'lxml')\n",
    "        records=int(soup.find('p',attrs={'id':'artist-record'}).text.replace('Tracks','').strip())\n",
    "    except Exception as e:\n",
    "        records=1\n",
    "    for _ in range(records//40):\n",
    "        browser.execute_script(\"window.scrollTo(0,document.body.scrollHeight)\")\n",
    "        browser.implicitly_wait(3)\n",
    "    soup=BeautifulSoup(browser.page_source,'lxml')\n",
    "    songs=[song.find('a',attrs={'class':'sng_c'}) for song in soup.find_all('div',attrs={'class':'playlist_thumb_det'})]\n",
    "    return songs\n",
    "\n",
    "artist_songs=dict()\n",
    "for artist_a in artists:\n",
    "    print(artist_a['href'])\n",
    "    artist_songs[artist_a['href'][8:]]=artist_songs_f(browser,artist_a['href'])"
   ]
  },
  {
   "cell_type": "code",
   "execution_count": null,
   "metadata": {},
   "outputs": [],
   "source": [
    "artist_songs"
   ]
  },
  {
   "cell_type": "code",
   "execution_count": null,
   "metadata": {},
   "outputs": [],
   "source": []
  },
  {
   "cell_type": "code",
   "execution_count": null,
   "metadata": {},
   "outputs": [],
   "source": []
  },
  {
   "cell_type": "code",
   "execution_count": null,
   "metadata": {},
   "outputs": [],
   "source": []
  },
  {
   "cell_type": "code",
   "execution_count": null,
   "metadata": {},
   "outputs": [],
   "source": []
  }
 ],
 "metadata": {
  "kernelspec": {
   "display_name": "Python 3",
   "language": "python",
   "name": "python3"
  },
  "language_info": {
   "codemirror_mode": {
    "name": "ipython",
    "version": 3
   },
   "file_extension": ".py",
   "mimetype": "text/x-python",
   "name": "python",
   "nbconvert_exporter": "python",
   "pygments_lexer": "ipython3",
   "version": "3.6.9"
  }
 },
 "nbformat": 4,
 "nbformat_minor": 4
}
